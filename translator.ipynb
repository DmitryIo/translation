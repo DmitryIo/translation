{
  "nbformat": 4,
  "nbformat_minor": 0,
  "metadata": {
    "colab": {
      "name": "translator.ipynb",
      "provenance": [],
      "collapsed_sections": [],
      "mount_file_id": "1TGqIRW74qMW3RwUPwTObN_WvXpCAvQpU",
      "authorship_tag": "ABX9TyN5pHMRoja+Xpf3rFFM9qY3",
      "include_colab_link": true
    },
    "kernelspec": {
      "name": "python3",
      "display_name": "Python 3"
    },
    "accelerator": "GPU"
  },
  "cells": [
    {
      "cell_type": "markdown",
      "metadata": {
        "id": "view-in-github",
        "colab_type": "text"
      },
      "source": [
        "<a href=\"https://colab.research.google.com/github/DmitryIo/translation/blob/master/translator.ipynb\" target=\"_parent\"><img src=\"https://colab.research.google.com/assets/colab-badge.svg\" alt=\"Open In Colab\"/></a>"
      ]
    },
    {
      "cell_type": "code",
      "metadata": {
        "id": "AOtdYw0OmbPr",
        "colab_type": "code",
        "colab": {}
      },
      "source": [
        "import pandas as pd"
      ],
      "execution_count": 0,
      "outputs": []
    },
    {
      "cell_type": "code",
      "metadata": {
        "id": "TK3Za8x7nRlZ",
        "colab_type": "code",
        "colab": {}
      },
      "source": [
        "data = pd.read_csv('translating.txt', sep='\\t', header=None)"
      ],
      "execution_count": 0,
      "outputs": []
    },
    {
      "cell_type": "code",
      "metadata": {
        "id": "FZA_h9Hrq6rm",
        "colab_type": "code",
        "colab": {}
      },
      "source": [
        "data.to_csv('/content/translation.csv', header=['text', 'target'], index_label=False)"
      ],
      "execution_count": 0,
      "outputs": []
    },
    {
      "cell_type": "code",
      "metadata": {
        "id": "tTmELdk3reeg",
        "colab_type": "code",
        "colab": {}
      },
      "source": [
        "\n",
        "import torch\n",
        "import torch.nn as nn\n",
        "import torch.optim as optim\n",
        "\n",
        "from torchtext.datasets import TranslationDataset, Multi30k\n",
        "from torchtext.data import Field, BucketIterator\n",
        "\n",
        "import spacy\n",
        "import numpy as np\n",
        "\n",
        "import random\n",
        "import math\n",
        "import time"
      ],
      "execution_count": 0,
      "outputs": []
    },
    {
      "cell_type": "code",
      "metadata": {
        "id": "qLQzl1-cBSoK",
        "colab_type": "code",
        "colab": {}
      },
      "source": [
        "SEED = 1234\n",
        "\n",
        "random.seed(SEED)\n",
        "np.random.seed(SEED)\n",
        "torch.manual_seed(SEED)\n",
        "torch.cuda.manual_seed(SEED)\n",
        "torch.backends.cudnn.deterministic = True"
      ],
      "execution_count": 0,
      "outputs": []
    },
    {
      "cell_type": "code",
      "metadata": {
        "id": "NQKUfnr53RFX",
        "colab_type": "code",
        "colab": {}
      },
      "source": [
        "!python -m spacy download xx\n",
        "!python -m spacy download en"
      ],
      "execution_count": 0,
      "outputs": []
    },
    {
      "cell_type": "code",
      "metadata": {
        "id": "Uab8nftxBW_K",
        "colab_type": "code",
        "colab": {}
      },
      "source": [
        "spacy_ru = spacy.load('xx')\n",
        "spacy_en = spacy.load('en')"
      ],
      "execution_count": 0,
      "outputs": []
    },
    {
      "cell_type": "code",
      "metadata": {
        "id": "webvFlhRB3-7",
        "colab_type": "code",
        "colab": {}
      },
      "source": [
        "def tokenize_ru(text):\n",
        "    return [tok.text for tok in spacy_ru.tokenizer(text)]\n",
        "\n",
        "def tokenize_en(text):\n",
        "    return [tok.text for tok in spacy_en.tokenizer(text)]"
      ],
      "execution_count": 0,
      "outputs": []
    },
    {
      "cell_type": "code",
      "metadata": {
        "id": "xKwefDq-CUC0",
        "colab_type": "code",
        "colab": {}
      },
      "source": [
        "SRC = Field(tokenize = tokenize_en, \n",
        "            init_token = '<sos>', \n",
        "            eos_token = '<eos>', \n",
        "            lower = True)\n",
        "\n",
        "TRG = Field(tokenize = tokenize_ru, \n",
        "            init_token = '<sos>', \n",
        "            eos_token = '<eos>', \n",
        "            lower = True)"
      ],
      "execution_count": 0,
      "outputs": []
    },
    {
      "cell_type": "code",
      "metadata": {
        "id": "oKvYqcIZ7Htc",
        "colab_type": "code",
        "colab": {}
      },
      "source": [
        "import pandas as pd\n",
        "dot = pd.read_csv('/content/translation.csv')\n",
        "dot.to_csv('/content/dot.csv', header=['src', 'trg'], index_label=False)\n"
      ],
      "execution_count": 0,
      "outputs": []
    },
    {
      "cell_type": "code",
      "metadata": {
        "id": "XVaRzTTJCFPR",
        "colab_type": "code",
        "colab": {}
      },
      "source": [
        "from torchtext import data\n",
        "fields = [('index', None), ('src', SRC), ('trg', TRG)]\n",
        "dataset = data.TabularDataset(path=\"/content/dot.csv\", format=\"CSV\", fields=fields, skip_header=True)"
      ],
      "execution_count": 0,
      "outputs": []
    },
    {
      "cell_type": "code",
      "metadata": {
        "id": "CFl3yhShKHVW",
        "colab_type": "code",
        "colab": {}
      },
      "source": [
        "train_data, valid_data = dataset.split()"
      ],
      "execution_count": 0,
      "outputs": []
    },
    {
      "cell_type": "code",
      "metadata": {
        "id": "l8uYdL11-jey",
        "colab_type": "code",
        "outputId": "92b25977-4445-46eb-9d0d-4e58200ac7d5",
        "colab": {
          "base_uri": "https://localhost:8080/",
          "height": 204
        }
      },
      "source": [
        "vars(train_data.examples[0])"
      ],
      "execution_count": 37,
      "outputs": [
        {
          "output_type": "execute_result",
          "data": {
            "text/plain": [
              "{'src': ['there',\n",
              "  'is',\n",
              "  'a',\n",
              "  '24-hour',\n",
              "  'front',\n",
              "  'desk',\n",
              "  'at',\n",
              "  'the',\n",
              "  'property',\n",
              "  '.'],\n",
              " 'trg': ['стойка', 'регистрации', 'открыта', 'круглосуточно', '.']}"
            ]
          },
          "metadata": {
            "tags": []
          },
          "execution_count": 37
        }
      ]
    },
    {
      "cell_type": "code",
      "metadata": {
        "id": "Hqe68qxUICPp",
        "colab_type": "code",
        "colab": {
          "base_uri": "https://localhost:8080/",
          "height": 476
        },
        "outputId": "90360894-9df7-4568-e591-ba696c66727b"
      },
      "source": [
        "vars(valid_data.examples[3])"
      ],
      "execution_count": 42,
      "outputs": [
        {
          "output_type": "execute_result",
          "data": {
            "text/plain": [
              "{'src': ['sikeston',\n",
              "  'factory',\n",
              "  'outlet',\n",
              "  'stores',\n",
              "  'are',\n",
              "  'less',\n",
              "  'than',\n",
              "  '2',\n",
              "  'minutes',\n",
              "  '’',\n",
              "  'drive',\n",
              "  'away',\n",
              "  '.'],\n",
              " 'trg': ['до',\n",
              "  'магазинов',\n",
              "  'центра',\n",
              "  'распродаж',\n",
              "  'sikeston',\n",
              "  'factory',\n",
              "  'можно',\n",
              "  'доехать',\n",
              "  'меньше',\n",
              "  'чем',\n",
              "  'за',\n",
              "  '2',\n",
              "  'минуты',\n",
              "  '.']}"
            ]
          },
          "metadata": {
            "tags": []
          },
          "execution_count": 42
        }
      ]
    },
    {
      "cell_type": "code",
      "metadata": {
        "id": "cNtjECfv1PrG",
        "colab_type": "code",
        "colab": {}
      },
      "source": [
        "SRC.build_vocab(train_data)\n",
        "TRG.build_vocab(train_data)"
      ],
      "execution_count": 0,
      "outputs": []
    },
    {
      "cell_type": "code",
      "metadata": {
        "id": "4PUkVMK0A5du",
        "colab_type": "code",
        "colab": {}
      },
      "source": [
        "BATCH_SIZE = 128\n",
        "device = torch.device('cuda' if torch.cuda.is_available() else 'cpu')\n",
        "train_iterator, valid_iterator = BucketIterator.splits(\n",
        "    (train_data, valid_data),\n",
        "    sort_key=lambda x: data.interleave_keys(len(x.src), len(x.trg)), \n",
        "    batch_size = BATCH_SIZE, \n",
        "    device = device)"
      ],
      "execution_count": 0,
      "outputs": []
    },
    {
      "cell_type": "code",
      "metadata": {
        "id": "wV9VMr5rGTxO",
        "colab_type": "code",
        "colab": {}
      },
      "source": [
        "  class Encoder(nn.Module):\n",
        "    \n",
        "    def __init__(self, input_dim, emb_dim, hid_dim, n_layers, dropout):\n",
        "        super().__init__()\n",
        "        \n",
        "        self.hid_dim = hid_dim\n",
        "        self.n_layers = n_layers\n",
        "        \n",
        "        self.embedding = nn.Embedding(input_dim, emb_dim)\n",
        "        \n",
        "        self.rnn = nn.LSTM(emb_dim, hid_dim, n_layers, dropout = dropout)\n",
        "        \n",
        "        self.dropout = nn.Dropout(dropout)\n",
        "        \n",
        "    def forward(self, src):\n",
        "        \n",
        "        #src = [src len, batch size]\n",
        "        \n",
        "        embedded = self.dropout(self.embedding(src))\n",
        "        \n",
        "        #embedded = [src len, batch size, emb dim]\n",
        "        \n",
        "        outputs, (hidden, cell) = self.rnn(embedded)\n",
        "        \n",
        "        #outputs = [src len, batch size, hid dim * n directions]\n",
        "        #hidden = [n layers * n directions, batch size, hid dim]\n",
        "        #cell = [n layers * n directions, batch size, hid dim]\n",
        "        \n",
        "        #outputs are always from the top hidden layer\n",
        "        \n",
        "        return hidden, cell\n"
      ],
      "execution_count": 0,
      "outputs": []
    },
    {
      "cell_type": "code",
      "metadata": {
        "id": "wQFd4YpDFSdZ",
        "colab_type": "code",
        "colab": {}
      },
      "source": [
        "class Decoder(nn.Module):\n",
        "    def __init__(self, output_dim, emb_dim, hid_dim, n_layers, dropout):\n",
        "        super().__init__()\n",
        "        \n",
        "        self.output_dim = output_dim\n",
        "        self.hid_dim = hid_dim\n",
        "        self.n_layers = n_layers\n",
        "        \n",
        "        self.embedding = nn.Embedding(output_dim, emb_dim)\n",
        "        \n",
        "        self.rnn = nn.LSTM(emb_dim, hid_dim, n_layers, dropout = dropout)\n",
        "        \n",
        "        self.fc_out = nn.Linear(hid_dim, output_dim)\n",
        "        \n",
        "        self.dropout = nn.Dropout(dropout)\n",
        "        \n",
        "    def forward(self, input, hidden, cell):\n",
        "        \n",
        "        #input = [batch size]\n",
        "        #hidden = [n layers * n directions, batch size, hid dim]\n",
        "        #cell = [n layers * n directions, batch size, hid dim]\n",
        "        \n",
        "        #n directions in the decoder will both always be 1, therefore:\n",
        "        #hidden = [n layers, batch size, hid dim]\n",
        "        #context = [n layers, batch size, hid dim]\n",
        "        \n",
        "        input = input.unsqueeze(0)\n",
        "        \n",
        "        #input = [1, batch size]\n",
        "        embedded = self.dropout(self.embedding(input))\n",
        "        \n",
        "        #embedded = [1, batch size, emb dim]\n",
        "                \n",
        "        output, (hidden, cell) = self.rnn(embedded, (hidden, cell))\n",
        "        \n",
        "        #output = [seq len, batch size, hid dim * n directions]\n",
        "        #hidden = [n layers * n directions, batch size, hid dim]\n",
        "        #cell = [n layers * n directions, batch size, hid dim]\n",
        "        \n",
        "        #seq len and n directions will always be 1 in the decoder, therefore:\n",
        "        #output = [1, batch size, hid dim]\n",
        "        #hidden = [n layers, batch size, hid dim]\n",
        "        #cell = [n layers, batch size, hid dim]\n",
        "        \n",
        "        prediction = self.fc_out(output.squeeze(0))\n",
        "        \n",
        "        #prediction = [batch size, output dim]\n",
        "        \n",
        "        return prediction, hidden, cell"
      ],
      "execution_count": 0,
      "outputs": []
    },
    {
      "cell_type": "code",
      "metadata": {
        "id": "PhbOdlTuSzG5",
        "colab_type": "code",
        "colab": {}
      },
      "source": [
        "class Seq2Seq(nn.Module):\n",
        "    def __init__(self, encoder, decoder, device):\n",
        "        super().__init__()\n",
        "        \n",
        "        self.encoder = encoder\n",
        "        self.decoder = decoder\n",
        "        self.device = device\n",
        "        \n",
        "        assert encoder.hid_dim == decoder.hid_dim, \\\n",
        "            \"Hidden dimensions of encoder and decoder must be equal!\"\n",
        "        assert encoder.n_layers == decoder.n_layers, \\\n",
        "            \"Encoder and decoder must have equal number of layers!\"\n",
        "        \n",
        "    def forward(self, src, trg, teacher_forcing_ratio = 0.5):\n",
        "        \n",
        "        #src = [src len, batch size]\n",
        "        #trg = [trg len, batch size]\n",
        "        #teacher_forcing_ratio is probability to use teacher forcing\n",
        "        #e.g. if teacher_forcing_ratio is 0.75 we use ground-truth inputs 75% of the time\n",
        "        \n",
        "        batch_size = trg.shape[1]\n",
        "        trg_len = trg.shape[0]\n",
        "        trg_vocab_size = self.decoder.output_dim\n",
        "        \n",
        "        #tensor to store decoder outputs\n",
        "        outputs = torch.zeros(trg_len, batch_size, trg_vocab_size).to(self.device)\n",
        "        \n",
        "        #last hidden state of the encoder is used as the initial hidden state of the decoder\n",
        "        hidden, cell = self.encoder(src)\n",
        "        \n",
        "        #first input to the decoder is the <sos> tokens\n",
        "        input = trg[0,:]\n",
        "        \n",
        "        for t in range(1, trg_len):\n",
        "            \n",
        "            #insert input token embedding, previous hidden and previous cell states\n",
        "            #receive output tensor (predictions) and new hidden and cell states\n",
        "            output, hidden, cell = self.decoder(input, hidden, cell)\n",
        "            \n",
        "            #place predictions in a tensor holding predictions for each token\n",
        "            outputs[t] = output\n",
        "            \n",
        "            #decide if we are going to use teacher forcing or not\n",
        "            teacher_force = random.random() < teacher_forcing_ratio\n",
        "              #get the highest predicted token from our predictions\n",
        "            top1 = output.argmax(1) \n",
        "            \n",
        "            #if teacher forcing, use actual next token as next input\n",
        "            #if not, use predicted token\n",
        "            input = trg[t] if teacher_force else top1\n",
        "        \n",
        "        return outputs"
      ],
      "execution_count": 0,
      "outputs": []
    },
    {
      "cell_type": "code",
      "metadata": {
        "id": "BIQ7-nA0Vask",
        "colab_type": "code",
        "colab": {}
      },
      "source": [
        "INPUT_DIM = len(SRC.vocab)\n",
        "OUTPUT_DIM = len(TRG.vocab)\n",
        "ENC_EMB_DIM = 256\n",
        "DEC_EMB_DIM = 256\n",
        "HID_DIM = 512\n",
        "N_LAYERS = 2\n",
        "ENC_DROPOUT = 0.5\n",
        "DEC_DROPOUT = 0.5\n",
        "\n",
        "enc = Encoder(INPUT_DIM, ENC_EMB_DIM, HID_DIM, N_LAYERS, ENC_DROPOUT)\n",
        "dec = Decoder(OUTPUT_DIM, DEC_EMB_DIM, HID_DIM, N_LAYERS, DEC_DROPOUT)\n",
        "\n",
        "model = Seq2Seq(enc, dec, device).to(device)"
      ],
      "execution_count": 0,
      "outputs": []
    },
    {
      "cell_type": "code",
      "metadata": {
        "id": "PCnZCS3zWWNG",
        "colab_type": "code",
        "outputId": "b8b79313-6441-412b-ddf7-1b587fdefcbd",
        "colab": {
          "base_uri": "https://localhost:8080/",
          "height": 238
        }
      },
      "source": [
        "def init_weights(m):\n",
        "    for name, param in m.named_parameters():\n",
        "        nn.init.uniform_(param.data, -0.08, 0.08)\n",
        "        \n",
        "model.apply(init_weights)"
      ],
      "execution_count": 23,
      "outputs": [
        {
          "output_type": "execute_result",
          "data": {
            "text/plain": [
              "Seq2Seq(\n",
              "  (encoder): Encoder(\n",
              "    (embedding): Embedding(25505, 256)\n",
              "    (rnn): LSTM(256, 512, num_layers=2, dropout=0.5)\n",
              "    (dropout): Dropout(p=0.5, inplace=False)\n",
              "  )\n",
              "  (decoder): Decoder(\n",
              "    (embedding): Embedding(36251, 256)\n",
              "    (rnn): LSTM(256, 512, num_layers=2, dropout=0.5)\n",
              "    (fc_out): Linear(in_features=512, out_features=36251, bias=True)\n",
              "    (dropout): Dropout(p=0.5, inplace=False)\n",
              "  )\n",
              ")"
            ]
          },
          "metadata": {
            "tags": []
          },
          "execution_count": 23
        }
      ]
    },
    {
      "cell_type": "code",
      "metadata": {
        "id": "g8VJBq15cFDj",
        "colab_type": "code",
        "outputId": "4693e221-0722-4b56-dd3d-bbf84dde1572",
        "colab": {
          "base_uri": "https://localhost:8080/",
          "height": 34
        }
      },
      "source": [
        "\n",
        "def count_parameters(model):\n",
        "    return sum(p.numel() for p in model.parameters() if p.requires_grad)\n",
        "\n",
        "print(f'The model has {count_parameters(model):,} trainable parameters')"
      ],
      "execution_count": 24,
      "outputs": [
        {
          "output_type": "stream",
          "text": [
            "The model has 41,762,715 trainable parameters\n"
          ],
          "name": "stdout"
        }
      ]
    },
    {
      "cell_type": "code",
      "metadata": {
        "id": "LhUXLpq-cMIp",
        "colab_type": "code",
        "colab": {}
      },
      "source": [
        "optimizer = optim.Adam(model.parameters())"
      ],
      "execution_count": 0,
      "outputs": []
    },
    {
      "cell_type": "code",
      "metadata": {
        "id": "j5MXjZHmeAuj",
        "colab_type": "code",
        "colab": {}
      },
      "source": [
        "TRG_PAD_IDX = TRG.vocab.stoi[TRG.pad_token]\n",
        "\n",
        "criterion = nn.CrossEntropyLoss(ignore_index = TRG_PAD_IDX)"
      ],
      "execution_count": 0,
      "outputs": []
    },
    {
      "cell_type": "code",
      "metadata": {
        "id": "snytG_pNeOb2",
        "colab_type": "code",
        "colab": {}
      },
      "source": [
        "def train(model, iterator, optimizer, criterion, clip):\n",
        "    \n",
        "    model.train()\n",
        "    \n",
        "    epoch_loss = 0\n",
        "    \n",
        "    for i, batch in enumerate(iterator):\n",
        "        \n",
        "        src = batch.src\n",
        "        trg = batch.trg\n",
        "        \n",
        "        optimizer.zero_grad()\n",
        "        \n",
        "        output = model(src, trg)\n",
        "        \n",
        "        \n",
        "        #trg = [trg len, batch size]\n",
        "        #output = [trg len, batch size, output dim]\n",
        "        \n",
        "        output_dim = output.shape[-1]\n",
        "        \n",
        "        output = output[1:].view(-1, output_dim)\n",
        "        trg = trg[1:].view(-1)\n",
        "        \n",
        "        #trg = [(trg len - 1) * batch size]\n",
        "        #output = [(trg len - 1) * batch size, output dim]\n",
        "        \n",
        "        loss = criterion(output, trg)\n",
        "        \n",
        "        loss.backward()\n",
        "        \n",
        "        torch.nn.utils.clip_grad_norm_(model.parameters(), clip)\n",
        "        \n",
        "        optimizer.step()\n",
        "        \n",
        "        epoch_loss += loss.item()\n",
        "        \n",
        "    return epoch_loss / len(iterator)\n"
      ],
      "execution_count": 0,
      "outputs": []
    },
    {
      "cell_type": "code",
      "metadata": {
        "id": "BX11XMfzgE9G",
        "colab_type": "code",
        "colab": {}
      },
      "source": [
        "def evaluate(model, iterator, criterion):\n",
        "    \n",
        "    model.eval()\n",
        "    \n",
        "    epoch_loss = 0\n",
        "    \n",
        "    with torch.no_grad():\n",
        "    \n",
        "        for i, batch in enumerate(iterator):\n",
        "\n",
        "          \n",
        "            src = batch.src\n",
        "            trg = batch.trg\n",
        "\n",
        "            output = model(src, trg, 0) #turn off teacher forcing\n",
        "\n",
        "            #trg = [trg len, batch size]\n",
        "            #output = [trg len, batch size, output dim]\n",
        "\n",
        "            output_dim = output.shape[-1]\n",
        "            \n",
        "            output = output[1:].view(-1, output_dim)\n",
        "            trg = trg[1:].view(-1)\n",
        "\n",
        "            #trg = [(trg len - 1) * batch size]\n",
        "            #output = [(trg len - 1) * batch size, output dim]\n",
        "\n",
        "            loss = criterion(output, trg)\n",
        "            \n",
        "            epoch_loss += loss.item()\n",
        "        \n",
        "    return epoch_loss / len(iterator)"
      ],
      "execution_count": 0,
      "outputs": []
    },
    {
      "cell_type": "code",
      "metadata": {
        "id": "cfgVgQfVgxTJ",
        "colab_type": "code",
        "colab": {}
      },
      "source": [
        "def epoch_time(start_time, end_time):\n",
        "    elapsed_time = end_time - start_time\n",
        "    elapsed_mins = int(elapsed_time / 60)\n",
        "    elapsed_secs = int(elapsed_time - (elapsed_mins * 60))\n",
        "    return elapsed_mins, elapsed_secs"
      ],
      "execution_count": 0,
      "outputs": []
    },
    {
      "cell_type": "code",
      "metadata": {
        "id": "zFXsSnodhXm6",
        "colab_type": "code",
        "outputId": "9702df64-a4cd-4f87-aec6-1c254d3bd830",
        "colab": {
          "base_uri": "https://localhost:8080/",
          "height": 1000
        }
      },
      "source": [
        "N_EPOCHS = 20\n",
        "CLIP = 1\n",
        "import matplotlib.pyplot as plt\n",
        "best_valid_loss = float('inf')\n",
        "plt.figure(figsize=(10,10))\n",
        "train_loss_mass = []\n",
        "epocher = []\n",
        "val_loss_mass =[]\n",
        "for epoch in range(N_EPOCHS):\n",
        "    \n",
        "    start_time = time.time()\n",
        "    \n",
        "    train_loss = train(model, train_iterator, optimizer, criterion, CLIP)\n",
        "    valid_loss = evaluate(model, valid_iterator, criterion)\n",
        "    \n",
        "    end_time = time.time()\n",
        "    \n",
        "    epoch_mins, epoch_secs = epoch_time(start_time, end_time)\n",
        "    epocher.append(epoch)\n",
        "    train_loss_mass.append(train_loss)\n",
        "    val_loss_mass.append(valid_loss)\n",
        "\n",
        "    plt.plot(epocher, train_loss_mass,  color='green', label='train_loss')\n",
        "    plt.plot(epocher, val_loss_mass, color='red', label='val_loss')\n",
        "    if epoch == 0:\n",
        "      plt.legend()\n",
        "    if valid_loss < best_valid_loss:\n",
        "        best_valid_loss = valid_loss\n",
        "        torch.save(model.state_dict(), '/content/drive/My Drive/banana projects/translator_baseline/tut1-model.pt')\n",
        "    \n",
        "    print(f'Epoch: {epoch+1:02} | Time: {epoch_mins}m {epoch_secs}s')\n",
        "    print(f'\\tTrain Loss: {train_loss:.3f} | Train PPL: {math.exp(train_loss):7.3f}')\n",
        "    print(f'\\t Val. Loss: {valid_loss:.3f} |  Val. PPL: {math.exp(valid_loss):7.3f}')"
      ],
      "execution_count": 30,
      "outputs": [
        {
          "output_type": "stream",
          "text": [
            "Epoch: 01 | Time: 3m 56s\n",
            "\tTrain Loss: 6.354 | Train PPL: 574.871\n",
            "\t Val. Loss: 6.073 |  Val. PPL: 434.139\n",
            "Epoch: 02 | Time: 3m 56s\n",
            "\tTrain Loss: 5.479 | Train PPL: 239.629\n",
            "\t Val. Loss: 6.295 |  Val. PPL: 541.970\n",
            "Epoch: 03 | Time: 3m 55s\n",
            "\tTrain Loss: 4.915 | Train PPL: 136.354\n",
            "\t Val. Loss: 6.538 |  Val. PPL: 691.018\n",
            "Epoch: 04 | Time: 3m 56s\n",
            "\tTrain Loss: 4.555 | Train PPL:  95.126\n",
            "\t Val. Loss: 6.582 |  Val. PPL: 722.189\n",
            "Epoch: 05 | Time: 3m 54s\n",
            "\tTrain Loss: 4.215 | Train PPL:  67.694\n",
            "\t Val. Loss: 6.139 |  Val. PPL: 463.789\n",
            "Epoch: 06 | Time: 3m 55s\n",
            "\tTrain Loss: 3.973 | Train PPL:  53.155\n",
            "\t Val. Loss: 6.086 |  Val. PPL: 439.572\n",
            "Epoch: 07 | Time: 3m 53s\n",
            "\tTrain Loss: 3.797 | Train PPL:  44.586\n",
            "\t Val. Loss: 6.000 |  Val. PPL: 403.271\n",
            "Epoch: 08 | Time: 3m 54s\n",
            "\tTrain Loss: 3.675 | Train PPL:  39.445\n",
            "\t Val. Loss: 5.678 |  Val. PPL: 292.305\n",
            "Epoch: 09 | Time: 3m 55s\n",
            "\tTrain Loss: 3.484 | Train PPL:  32.576\n",
            "\t Val. Loss: 5.786 |  Val. PPL: 325.701\n",
            "Epoch: 10 | Time: 3m 53s\n",
            "\tTrain Loss: 3.385 | Train PPL:  29.522\n",
            "\t Val. Loss: 5.616 |  Val. PPL: 274.862\n",
            "Epoch: 11 | Time: 3m 54s\n",
            "\tTrain Loss: 3.235 | Train PPL:  25.409\n",
            "\t Val. Loss: 5.688 |  Val. PPL: 295.399\n",
            "Epoch: 12 | Time: 3m 54s\n",
            "\tTrain Loss: 3.136 | Train PPL:  23.022\n",
            "\t Val. Loss: 5.675 |  Val. PPL: 291.533\n",
            "Epoch: 13 | Time: 3m 55s\n",
            "\tTrain Loss: 3.072 | Train PPL:  21.591\n",
            "\t Val. Loss: 5.703 |  Val. PPL: 299.618\n",
            "Epoch: 14 | Time: 3m 56s\n",
            "\tTrain Loss: 2.974 | Train PPL:  19.575\n",
            "\t Val. Loss: 5.676 |  Val. PPL: 291.898\n",
            "Epoch: 15 | Time: 3m 56s\n",
            "\tTrain Loss: 2.922 | Train PPL:  18.579\n",
            "\t Val. Loss: 5.689 |  Val. PPL: 295.602\n",
            "Epoch: 16 | Time: 3m 57s\n",
            "\tTrain Loss: 2.828 | Train PPL:  16.918\n",
            "\t Val. Loss: 5.734 |  Val. PPL: 309.141\n",
            "Epoch: 17 | Time: 3m 54s\n",
            "\tTrain Loss: 2.719 | Train PPL:  15.166\n",
            "\t Val. Loss: 5.765 |  Val. PPL: 319.024\n",
            "Epoch: 18 | Time: 3m 55s\n",
            "\tTrain Loss: 2.646 | Train PPL:  14.101\n",
            "\t Val. Loss: 5.741 |  Val. PPL: 311.235\n",
            "Epoch: 19 | Time: 3m 55s\n",
            "\tTrain Loss: 2.570 | Train PPL:  13.064\n",
            "\t Val. Loss: 5.851 |  Val. PPL: 347.713\n",
            "Epoch: 20 | Time: 3m 55s\n",
            "\tTrain Loss: 2.551 | Train PPL:  12.823\n",
            "\t Val. Loss: 5.796 |  Val. PPL: 329.079\n"
          ],
          "name": "stdout"
        },
        {
          "output_type": "display_data",
          "data": {
            "image/png": "[encoded data removed]",
            "text/plain": [
              "<Figure size 720x720 with 1 Axes>"
            ]
          },
          "metadata": {
            "tags": [],
            "needs_background": "light"
          }
        }
      ]
    },
    {
      "cell_type": "code",
      "metadata": {
        "id": "_jC9nSV_hjDn",
        "colab_type": "code",
        "colab": {}
      },
      "source": [
        "from torchtext.data import RawField\n",
        "from torchtext.data import Batch\n",
        "import torchtext\n",
        "def predict(model, sentence, SRC, TRG):\n",
        "  model.eval()\n",
        "  d = {'src': sentence, 'trg': sentence}\n",
        "  df = pd.DataFrame(data=d, index=range(1))\n",
        "  df.to_csv('df.csv', index_label=False)\n",
        "  fields = [(None, None), ('src', SRC), ('trg', TRG)]\n",
        "  prediction = torchtext.data.TabularDataset.splits(path='/content/.', train = 'df.csv', format='csv', fields=fields, skip_header = True)[0]\n",
        "  BATCH_SIZE = 1\n",
        "  device = torch.device('cuda' if torch.cuda.is_available() else 'cpu')\n",
        "  predict_generator = BucketIterator(\n",
        "    prediction,\n",
        "    sort_key=lambda x: data.interleave_keys(len(x.src), len(x.trg)), \n",
        "    batch_size = BATCH_SIZE, \n",
        "    device = device)\n",
        "  with torch.no_grad():\n",
        "    for i, batch in enumerate(predict_generator):\n",
        "      src = batch.src\n",
        "      trg = batch.trg\n",
        "      output = model(src, trg, 0)\n",
        "      output_dim = output.shape[-1]\n",
        "            \n",
        "      output = output[1:].view(-1, output_dim)\n",
        "      trg = trg[1:].view(-1)\n",
        "  listik = []\n",
        "  for i in torch.argmax(output, dim=1):\n",
        "    if TRG.vocab.itos[i] == '<eos>':\n",
        "      break\n",
        "    listik.append(TRG.vocab.itos[i])\n",
        "  return ' '.join(listik)\n"
      ],
      "execution_count": 0,
      "outputs": []
    },
    {
      "cell_type": "code",
      "metadata": {
        "id": "RXuQ6Mk9UHqH",
        "colab_type": "code",
        "outputId": "591ef3ef-6bb2-43d8-fe59-920e1ce974c8",
        "colab": {
          "base_uri": "https://localhost:8080/",
          "height": 357
        }
      },
      "source": [
        "for i in range(10):\n",
        "  att = pd.read_csv('dot.csv').sample(1)['src'].values[0]\n",
        "  output = predict(model, att, SRC, TRG)\n",
        "  print(f'Sentence: {att} |\\nTranslation: {output}')"
      ],
      "execution_count": 34,
      "outputs": [
        {
          "output_type": "stream",
          "text": [
            "Sentence: The property boasts views of the Yatsugadake and Chichibu Mountains, the Southern Alps and Mount Fuji. |\n",
            "Translation: из окон открывается вид на горы , стартовую чичибу южные лес .\n",
            "Sentence: Russian National Public Library for Science and Technology is 4.2 km from Apartment On Gorskiy 63/1, while Novosibirsk Opera and Ballet Theatre is 4.3 km away. |\n",
            "Translation: расстояние от отеля типа « постель и завтрак » bahar до пристаней для яхт эдже - сарай , фетхие составляет 2,6 км , а до хоккейной аэропорта — —\n",
            "Sentence: It has a washing machine, ironing facilities and 3 bathrooms. |\n",
            "Translation: в распоряжении гостей стиральная машина , сушильная машина и стиральная машина .\n",
            "Sentence: Rooms have simple modern furnishings and resin floors. |\n",
            "Translation: номера оформлены в строгом стиле и обставлены деревянной мебелью .\n",
            "Sentence: Other facilities offered include meeting facilities and luggage storage. |\n",
            "Translation: в распоряжении гостей помещения для проведения конференций , камера хранения багажа\n",
            "Sentence: Free WiFi is provided. |\n",
            "Translation: wi - fi .\n",
            "Sentence: An array of activities can be enjoyed on site or in the surroundings, including shopping in 2 km, restaurant in 2 km, fishing in 1.1 km and the shore in 7 km. |\n",
            "Translation: расстояние до озера гарда , где к зданию , , , км , а до города - - км , а до города км , а до сокольского и дряновского монастырей - в км .\n",
            "Sentence: Other facilities offered at the property include grocery deliveries. |\n",
            "Translation: в распоряжении гостей экскурсионное бюро .\n",
            "Sentence: Anapa Airport is 19 km away. |\n",
            "Translation: расстояние до аэропорта составляет составляет км .\n",
            "Sentence: Malaga Airport is 31 km away. |\n",
            "Translation: расстояние до аэропорта аэропорта составляет составляет км .\n"
          ],
          "name": "stdout"
        }
      ]
    },
    {
      "cell_type": "code",
      "metadata": {
        "id": "CYg-oGc4wgq9",
        "colab_type": "code",
        "colab": {}
      },
      "source": [
        ""
      ],
      "execution_count": 0,
      "outputs": []
    }
  ]
}